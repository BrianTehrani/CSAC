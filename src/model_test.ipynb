{
 "cells": [
  {
   "cell_type": "markdown",
   "metadata": {},
   "source": [
    "#### Testing a trained CSAC Model"
   ]
  },
  {
   "cell_type": "markdown",
   "metadata": {},
   "source": [
    "Importing python modules and model"
   ]
  },
  {
   "cell_type": "code",
   "execution_count": null,
   "metadata": {},
   "outputs": [],
   "source": [
    "import torch, os\n",
    "import numpy as np\n",
    "from classifiers import PtClassifier_V2\n",
    "from dataHandler import ClockDataset\n",
    "\n",
    "MODEL_FOLDER = os.path.join(os.getcwd(), 'models')\n",
    "TEST_DATASET = os.path.join(os.getcwd(), 'data/test')\n",
    "\n",
    "device = 'cuda' if torch.cuda.is_available() else 'cpu'\n",
    "\n",
    "test_dataset = ClockDataset(f_data=TEST_DATASET)\n",
    "\n",
    "#model = PtClassifier_V2(parameters=15, classes=1).to(device)\n",
    "model = torch.load(f=os.path.join(MODEL_FOLDER, 'csac_ml_0.pth'),)\n",
    "model.parameters\n"
   ]
  },
  {
   "cell_type": "code",
   "execution_count": null,
   "metadata": {},
   "outputs": [],
   "source": [
    "import matplotlib.pyplot as plt\n",
    "\n",
    "n=0\n",
    "with torch.inference_mode():\n",
    "    model.eval()\n",
    "    for data in test_dataset:\n",
    "        clock, labels, cols, validation = data\n",
    "        clock = clock.to(device)\n",
    "        labels = labels.numpy()\n",
    "        temp = []\n",
    "        \n",
    "        prediction = model(clock)\n",
    "        prediction = torch.tanh(prediction).squeeze().cpu().numpy()\n",
    "        for i, pred in enumerate(prediction):\n",
    "            if pred < 0:\n",
    "                prediction[i] = 0\n",
    "            else:\n",
    "                prediction[i] = 1\n",
    "        print(prediction)\n",
    "\n",
    "        # count = 0\n",
    "        # for i, v in enumerate(prediction):\n",
    "        #     if labels[i] == v:\n",
    "        #         count+=1\n",
    "        # plt.figure(figsize=(2, 4))\n",
    "        # plt.plot(labels)\n",
    "        # plt.plot(prediction)\n",
    "     \n",
    "\n",
    "\n",
    "        \n",
    "\n",
    "\n",
    "        "
   ]
  },
  {
   "cell_type": "code",
   "execution_count": null,
   "metadata": {},
   "outputs": [],
   "source": [
    "\n",
    "import torch\n",
    "\n",
    "# Example tensors\n",
    "tensor1 = torch.tensor([1, 2, 3, 4, 5])\n",
    "tensor2 = torch.tensor([5, 4, 3, 2, 1])\n",
    "\n",
    "# Check for equality element-wise\n",
    "equal_elements = tensor1 == tensor2\n",
    "\n",
    "# Sum the number of equal elements\n",
    "num_equal_elements = torch.sum(equal_elements).item()\n",
    "\n",
    "print(f\"Number of equal elements: {num_equal_elements}\")\n"
   ]
  }
 ],
 "metadata": {
  "kernelspec": {
   "display_name": "Python 3",
   "language": "python",
   "name": "python3"
  },
  "language_info": {
   "codemirror_mode": {
    "name": "ipython",
    "version": 3
   },
   "file_extension": ".py",
   "mimetype": "text/x-python",
   "name": "python",
   "nbconvert_exporter": "python",
   "pygments_lexer": "ipython3",
   "version": "3.11.6"
  }
 },
 "nbformat": 4,
 "nbformat_minor": 2
}
