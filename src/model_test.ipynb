{
 "cells": [
  {
   "cell_type": "markdown",
   "metadata": {},
   "source": [
    "#### Testing a trained CSAC Model"
   ]
  },
  {
   "cell_type": "markdown",
   "metadata": {},
   "source": [
    "Importing python modules and model"
   ]
  },
  {
   "cell_type": "code",
   "execution_count": 1,
   "metadata": {},
   "outputs": [
    {
     "data": {
      "text/plain": [
       "<bound method Module.parameters of PtClassifier_V2(\n",
       "  (layers): Sequential(\n",
       "    (0): Linear(in_features=15, out_features=32, bias=True)\n",
       "    (1): ReLU()\n",
       "    (2): Linear(in_features=32, out_features=8, bias=True)\n",
       "    (3): ReLU()\n",
       "    (4): Linear(in_features=8, out_features=4, bias=True)\n",
       "    (5): ReLU()\n",
       "    (6): Linear(in_features=4, out_features=1, bias=True)\n",
       "  )\n",
       ")>"
      ]
     },
     "execution_count": 1,
     "metadata": {},
     "output_type": "execute_result"
    }
   ],
   "source": [
    "import torch, os\n",
    "import numpy as np\n",
    "from dataHandler import ClockDataset\n",
    "\n",
    "MODEL_FOLDER = os.path.join(os.getcwd(), 'models')\n",
    "TEST_DATASET = os.path.join(os.getcwd(), 'data/test')\n",
    "\n",
    "device = 'cuda' if torch.cuda.is_available() else 'cpu'\n",
    "\n",
    "test_dataset = ClockDataset(f_data=TEST_DATASET, transform=True)\n",
    "\n",
    "#model = PtClassifier_V2(parameters=15, classes=1).to(device)\n",
    "model = torch.load(f=os.path.join(MODEL_FOLDER, 'csac_ml_0.pth'),)\n",
    "model.parameters\n"
   ]
  },
  {
   "cell_type": "markdown",
   "metadata": {},
   "source": [
    "View a sample of testing data with applied scaling."
   ]
  },
  {
   "cell_type": "code",
   "execution_count": 2,
   "metadata": {},
   "outputs": [],
   "source": [
    "c, l, cols, v = test_dataset[0]"
   ]
  },
  {
   "cell_type": "code",
   "execution_count": null,
   "metadata": {},
   "outputs": [],
   "source": [
    "with torch.inference_mode():\n",
    "    model.eval()\n",
    "    for data in test_dataset:\n",
    "        clock, labels, cols, validation = data\n",
    "        clock = clock.to(device)\n",
    "        \n",
    "        prediction = model(clock)\n",
    "        prediction = torch.round(torch.sigmoid(prediction)).cpu().to(torch.int64)\n",
    "        acc = torch.sum(torch.eq(prediction, labels))\n",
    "        print(acc / len(labels))\n",
    "        break\n",
    "     \n",
    "        "
   ]
  }
 ],
 "metadata": {
  "kernelspec": {
   "display_name": "Python 3",
   "language": "python",
   "name": "python3"
  },
  "language_info": {
   "codemirror_mode": {
    "name": "ipython",
    "version": 3
   },
   "file_extension": ".py",
   "mimetype": "text/x-python",
   "name": "python",
   "nbconvert_exporter": "python",
   "pygments_lexer": "ipython3",
   "version": "3.11.2"
  }
 },
 "nbformat": 4,
 "nbformat_minor": 2
}
