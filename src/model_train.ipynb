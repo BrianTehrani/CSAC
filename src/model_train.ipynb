{
 "cells": [
  {
   "cell_type": "markdown",
   "metadata": {},
   "source": [
    "### Training Clock Validation Models\n",
    "\n",
    "This file mainly prepars models which can identify regoins in a clock dataset where a fail state occured in time of TempCo testing."
   ]
  },
  {
   "cell_type": "markdown",
   "metadata": {},
   "source": [
    "#### Imports"
   ]
  },
  {
   "cell_type": "code",
   "execution_count": 1,
   "metadata": {},
   "outputs": [],
   "source": [
    "# PyTorch\n",
    "import torch, os\n",
    "import torch.optim as optim\n",
    "from torch.utils.data import DataLoader\n",
    "\n",
    "\n",
    "# Custom functions and classes\n",
    "from dataHandler import ClockDataset\n",
    "from classifiers import PtClassifier_V2\n",
    "\n",
    "device = \"cuda\" if torch.cuda.is_available() else \"cpu\""
   ]
  },
  {
   "cell_type": "markdown",
   "metadata": {},
   "source": [
    "#### Prepare Clock Dataset\n",
    "\n",
    "TempCo data: clock data collected during clock testing undergoing temperature cycling over the course of a set period of time."
   ]
  },
  {
   "cell_type": "code",
   "execution_count": 2,
   "metadata": {},
   "outputs": [],
   "source": [
    "# Paths containing testing and training datasets\n",
    "TEST_DATASET  = os.path.join(os.getcwd(), r\"data\\test\")\n",
    "TRAIN_DATASET = os.path.join(os.getcwd(), r\"data\\train\")\n",
    "\n",
    "# Creating Datasets\n",
    "clock_dataset_test = ClockDataset(f_data=TEST_DATASET)\n",
    "clock_dataset_train = ClockDataset(f_data=TRAIN_DATASET)\n",
    "\n",
    "# Creating Dataloaders\n",
    "train_dataloader = DataLoader(\n",
    "    dataset=clock_dataset_train,\n",
    "    batch_size=1,\n",
    "    shuffle=True)\n",
    "\n",
    "train_dataloader = DataLoader(\n",
    "    dataset=clock_dataset_test,\n",
    "    batch_size=1)"
   ]
  },
  {
   "cell_type": "code",
   "execution_count": 17,
   "metadata": {},
   "outputs": [
    {
     "name": "stdout",
     "output_type": "stream",
     "text": [
      "Sample Parameter row:\n",
      "tensor([1.0719e+00, 3.3072e+04, 1.4384e+04, 9.6110e+03, 4.7730e+03, 1.3960e+00,\n",
      "        3.2653e+04, 2.9436e+04, 3.4219e+01, 9.3619e+01, 8.4200e+01, 4.2337e+04,\n",
      "        4.1039e+04, 2.0390e+04, 5.2900e+02])\n",
      "Sample Label: 0\n",
      "Sample Columns: [('DCL',), ('PDADC',), ('CPTP',), ('CPTF',), ('CPTD',), ('VBC',), ('VFA',), ('XFA',), ('TPCB',), ('VTEMP',), ('CTEMP',), ('VHTR',), ('CHTR',), ('RFL',), ('PDSU',), ('FAIL',)]\n",
      "Sample Validation: fail\n"
     ]
    }
   ],
   "source": [
    "# Sample data\n",
    "sample_param, sample_labels, sample_columns, sample_validation = next(iter(train_dataloader))\n",
    "\n",
    "print(f\"Sample Parameter row:\\n{sample_param.squeeze()[0]}\")\n",
    "print(f\"Sample Label: {sample_labels.squeeze()[0]}\")\n",
    "print(f\"Sample Columns: {sample_columns}\")\n",
    "print(f\"Sample Validation: {sample_validation[0]}\")"
   ]
  },
  {
   "cell_type": "markdown",
   "metadata": {},
   "source": [
    "#### Import Model"
   ]
  },
  {
   "cell_type": "code",
   "execution_count": 4,
   "metadata": {},
   "outputs": [],
   "source": [
    "NUM_PARAMS  = clock_dataset_train[0][0][0].__len__()\n",
    "NUM_CLASSES = clock_dataset_train[0][1][0].__len__()\n",
    "model = PtClassifier_V2(parameters=NUM_PARAMS, classes=NUM_CLASSES)"
   ]
  },
  {
   "cell_type": "markdown",
   "metadata": {},
   "source": [
    "#### Optimizer and Loss Function"
   ]
  },
  {
   "cell_type": "code",
   "execution_count": 5,
   "metadata": {},
   "outputs": [],
   "source": [
    "optimizer = optim.Adam(model.parameters())\n",
    "criterion = torch.nn.BCEWithLogitsLoss()"
   ]
  },
  {
   "cell_type": "markdown",
   "metadata": {},
   "source": [
    "#### Training"
   ]
  },
  {
   "cell_type": "code",
   "execution_count": null,
   "metadata": {},
   "outputs": [],
   "source": [
    "NUM_EPOCHS = 10"
   ]
  }
 ],
 "metadata": {
  "kernelspec": {
   "display_name": "Python 3",
   "language": "python",
   "name": "python3"
  },
  "language_info": {
   "codemirror_mode": {
    "name": "ipython",
    "version": 3
   },
   "file_extension": ".py",
   "mimetype": "text/x-python",
   "name": "python",
   "nbconvert_exporter": "python",
   "pygments_lexer": "ipython3",
   "version": "3.11.2"
  }
 },
 "nbformat": 4,
 "nbformat_minor": 2
}
