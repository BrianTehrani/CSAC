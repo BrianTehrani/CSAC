{
 "cells": [
  {
   "cell_type": "markdown",
   "metadata": {},
   "source": [
    "### Training Clock Validation Models\n",
    "\n",
    "This file mainly prepars models which can identify regoins in a clock dataset where a fail state occured in time of TempCo testing."
   ]
  },
  {
   "cell_type": "markdown",
   "metadata": {},
   "source": [
    "#### Imports"
   ]
  },
  {
   "cell_type": "code",
   "execution_count": 1,
   "metadata": {},
   "outputs": [],
   "source": [
    "# PyTorch\n",
    "import torch, os\n",
    "import torch.optim as optim\n",
    "from torch.utils.data import DataLoader\n",
    "\n",
    "\n",
    "# Custom functions and classes\n",
    "from dataHandler import ClockDataset\n",
    "from classifiers import PtClassifier_V2\n",
    "\n",
    "device = \"cuda\" if torch.cuda.is_available() else \"cpu\""
   ]
  },
  {
   "cell_type": "markdown",
   "metadata": {},
   "source": [
    "#### Prepare Clock Dataset\n",
    "\n",
    "TempCo data: clock data collected during clock testing undergoing temperature cycling over the course of a set period of time."
   ]
  },
  {
   "cell_type": "code",
   "execution_count": 2,
   "metadata": {},
   "outputs": [
    {
     "name": "stdout",
     "output_type": "stream",
     "text": [
      "Number of clocks in train dataset: 117\n",
      "Number of clocks in test dataset: 18\n"
     ]
    }
   ],
   "source": [
    "# Paths containing testing and training datasets\n",
    "TEST_DATASET  = os.path.join(os.getcwd(), r\"data\\test\")\n",
    "TRAIN_DATASET = os.path.join(os.getcwd(), r\"data\\train\")\n",
    "\n",
    "# Creating Datasets\n",
    "clock_dataset_test = ClockDataset(f_data=TEST_DATASET)\n",
    "clock_dataset_train = ClockDataset(f_data=TRAIN_DATASET)\n",
    "\n",
    "# Creating Dataloaders\n",
    "train_dataloader = DataLoader(\n",
    "    dataset=clock_dataset_train,\n",
    "    batch_size=1,\n",
    "    shuffle=False)\n",
    "\n",
    "test_dataloader = DataLoader(\n",
    "    dataset=clock_dataset_test,\n",
    "    batch_size=1)\n",
    "\n",
    "print(f\"Number of clocks in train dataset: {clock_dataset_train.__len__()}\")\n",
    "print(f\"Number of clocks in test dataset: {clock_dataset_test.__len__()}\")"
   ]
  },
  {
   "cell_type": "code",
   "execution_count": 3,
   "metadata": {},
   "outputs": [
    {
     "name": "stdout",
     "output_type": "stream",
     "text": [
      "Sample Parameter row:\n",
      "tensor([7.3140e-01, 3.2896e+04, 1.3569e+04, 1.1119e+04, 2.4500e+03, 1.3412e+00,\n",
      "        2.7853e+04, 3.2912e+04, 3.3250e+01, 8.6338e+01, 8.4200e+01, 3.9745e+04,\n",
      "        3.9508e+04, 2.6864e+04, 5.1200e+02])\n",
      "Sample Label: tensor([[0],\n",
      "        [0],\n",
      "        [0],\n",
      "        ...,\n",
      "        [0],\n",
      "        [0],\n",
      "        [0]])\n",
      "Sample Columns: [('DCL',), ('PDADC',), ('CPTP',), ('CPTF',), ('CPTD',), ('VBC',), ('VFA',), ('XFA',), ('TPCB',), ('VTEMP',), ('CTEMP',), ('VHTR',), ('CHTR',), ('RFL',), ('PDSU',), ('FAIL',)]\n",
      "Sample Validation: fail\n",
      "Length of sample parameters: 229364\n"
     ]
    }
   ],
   "source": [
    "# Sample data\n",
    "sample_param, sample_labels, sample_columns, sample_validation = next(iter(train_dataloader))\n",
    "\n",
    "print(f\"Sample Parameter row:\\n{sample_param[0][0]}\")\n",
    "print(f\"Sample Label: {sample_labels[0]}\")\n",
    "print(f\"Sample Columns: {sample_columns}\")\n",
    "print(f\"Sample Validation: {sample_validation[0]}\")\n",
    "\n",
    "print(f\"Length of sample parameters: {len(sample_param[0])}\")"
   ]
  },
  {
   "cell_type": "markdown",
   "metadata": {},
   "source": [
    "#### Import Model"
   ]
  },
  {
   "cell_type": "code",
   "execution_count": 4,
   "metadata": {},
   "outputs": [
    {
     "name": "stdout",
     "output_type": "stream",
     "text": [
      "Number of parameters for model input: 15\n",
      "Number of classes: 1\n"
     ]
    }
   ],
   "source": [
    "NUM_PARAMS  = clock_dataset_train[0][0][0].__len__()\n",
    "NUM_CLASSES = clock_dataset_train[0][1][0].__len__()\n",
    "model = PtClassifier_V2(parameters=NUM_PARAMS, classes=NUM_CLASSES)\n",
    "model = model.to(device)\n",
    "print(f\"Number of parameters for model input: {NUM_PARAMS}\")\n",
    "print(f\"Number of classes: {NUM_CLASSES}\")"
   ]
  },
  {
   "cell_type": "markdown",
   "metadata": {},
   "source": [
    "#### Optimizer and Loss Function"
   ]
  },
  {
   "cell_type": "code",
   "execution_count": 5,
   "metadata": {},
   "outputs": [],
   "source": [
    "optimizer = optim.Adam(model.parameters())\n",
    "criterion = torch.nn.BCEWithLogitsLoss()"
   ]
  },
  {
   "cell_type": "markdown",
   "metadata": {},
   "source": [
    "#### Training\n",
    "Note:\n",
    "    Models take a long time to train ~6 min per clock.\n",
    "    This is because we are trainning the models on each second of data per clockk.\n",
    "    Training time can be improved by reducing the datasets by factoring out:\n",
    "        - Data where clock is idle \n",
    "        - Introduce a batch parameter when training per clock to train on batches of seconds   "
   ]
  },
  {
   "cell_type": "code",
   "execution_count": null,
   "metadata": {},
   "outputs": [
    {
     "name": "stdout",
     "output_type": "stream",
     "text": [
      "Testing Clock: 0 | fail\n",
      "y_pred: 1 | Act: 0 | On row number: 23498\n",
      "Testing Clock: 1 | fail\n",
      "y_pred: 1 | Act: 0 | On row number: 162335\n",
      "Testing Clock: 2 | fail\n",
      "y_pred: 1 | Act: 0 | On row number: 157831\n",
      "Testing Clock: 3 | fail\n",
      "y_pred: 1 | Act: 1 | On row number: 233850\n",
      "Testing Clock: 4 | fail_passedLater\n",
      "y_pred: 1 | Act: 0 | On row number: 152136\n",
      "Testing Clock: 5 | fail_passedLater\n",
      "y_pred: 1 | Act: 0 | On row number: 165931\n",
      "Testing Clock: 6 | fail_passedLater\n",
      "y_pred: 1 | Act: 0 | On row number: 144081\n",
      "Testing Clock: 7 | fail_passedLater\n",
      "y_pred: 1 | Act: 1 | On row number: 170218\n",
      "Testing Clock: 8 | pass\n",
      "y_pred: 1 | Act: 0 | On row number: 165931\n",
      "Testing Clock: 9 | pass\n",
      "y_pred: 1 | Act: 0 | On row number: 25676\n",
      "Testing Clock: 10 | pass\n",
      "y_pred: 1 | Act: 0 | On row number: 234972\n",
      "Testing Clock: 11 | pass\n",
      "y_pred: 1 | Act: 0 | On row number: 158743\n",
      "Testing Clock: 12 | pass\n",
      "y_pred: 1 | Act: 0 | On row number: 152470\n",
      "Testing Clock: 13 | pass\n",
      "y_pred: 1 | Act: 0 | On row number: 23498\n",
      "Testing Clock: 14 | pass\n",
      "y_pred: 1 | Act: 0 | On row number: 152138\n",
      "Testing Clock: 15 | pass\n",
      "y_pred: 1 | Act: 0 | On row number: 14927\n",
      "Testing Clock: 16 | pass\n",
      "y_pred: 1 | Act: 0 | On row number: 253412\n",
      "Testing Clock: 17 | pass\n",
      "y_pred: 1 | Act: 0 | On row number: 240936\n",
      "([3247.5479493268, 3681.7881117087013, 3118.8922459893693, 0.0, 2778.2313855487005, 1551.7846063259346, 3092.8978724988606, 1739.9379345906505, 3146.834020226883, 3518.4679218881593, 3178.0878171811396, 3216.7126546186023, 3248.2132917851104, 3000.5221594161917, 2855.288962383071, 3466.0431656259943, 3350.9341059055137, 3401.949849988137], [0.021532831184305715, 0.000609846244825547, 0.05315778802777637, 1.0, 0.04915963900957689, 0.5163621242436661, 0.056176344026318346, 0.4178910697395708, 0.0, 0.0, 0.0, 0.0, 0.0, 0.0, 0.0, 0.0, 0.0, 0.0])\n"
     ]
    }
   ],
   "source": [
    "from engine import train\n",
    "NUM_EPOCHS = 1\n",
    "\n",
    "results = train(\n",
    "    train_dataloader=train_dataloader,\n",
    "    test_dataloader=test_dataloader,\n",
    "    model=model,\n",
    "    loss_fn=criterion,\n",
    "    epochs=NUM_EPOCHS,\n",
    "    device=device)\n",
    "\n",
    "print(results)\n",
    "\n",
    "''' \n",
    "    Implement batch size per training and testing step per clock to reduce training time.\n",
    "'''"
   ]
  }
 ],
 "metadata": {
  "kernelspec": {
   "display_name": "Python 3",
   "language": "python",
   "name": "python3"
  },
  "language_info": {
   "codemirror_mode": {
    "name": "ipython",
    "version": 3
   },
   "file_extension": ".py",
   "mimetype": "text/x-python",
   "name": "python",
   "nbconvert_exporter": "python",
   "pygments_lexer": "ipython3",
   "version": "3.11.2"
  }
 },
 "nbformat": 4,
 "nbformat_minor": 2
}
